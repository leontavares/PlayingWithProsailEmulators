{
 "cells": [
  {
   "cell_type": "code",
   "execution_count": 1,
   "metadata": {
    "pycharm": {
     "is_executing": true
    }
   },
   "outputs": [],
   "source": [
    "#!pip install gp_emulator\n",
    "\n"
   ]
  },
  {
   "cell_type": "code",
   "execution_count": 2,
   "metadata": {
    "pycharm": {
     "name": "#%%\n"
    }
   },
   "outputs": [],
   "source": [
    "import numpy as np\n",
    "import gp_emulator\n",
    "import matplotlib.pyplot as plt\n",
    "import prosail"
   ]
  },
  {
   "cell_type": "markdown",
   "metadata": {},
   "source": [
    "I could not install  prosail in python3.6\n",
    "and just took the libraries to call them.\n",
    "\n",
    "Below are the  scaling-transform functions according\n",
    "to https://github.com/jgomezdans/gp_emulator/blob/master/notebooks/Emulation_playground.ipynb"
   ]
  },
  {
   "cell_type": "code",
   "execution_count": 3,
   "metadata": {
    "pycharm": {
     "name": "#%%\n"
    }
   },
   "outputs": [],
   "source": [
    "def inverse_transform(x):\n",
    "    \"\"\"Inverse transform the PROSAIL parameters\"\"\"\n",
    "    x_out = x * 1.\n",
    "    # Cab, posn 1\n",
    "    x_out[1] = -100. * np.log(x[1])\n",
    "    # Cab, posn 2\n",
    "    x_out[2] = -100. * np.log(x[2])\n",
    "    # Cw, posn 4\n",
    "    x_out[4] = (-1. / 50.) * np.log(x[4])\n",
    "    # Cm, posn 5\n",
    "    x_out[5] = (-1. / 100.) * np.log(x[5])\n",
    "    # LAI, posn 6\n",
    "    x_out[6] = -2. * np.log(x[6])\n",
    "    # ALA, posn 7\n",
    "    x_out[7] = 90. * x[7]\n",
    "    return x_out\n",
    "\n",
    "\n",
    "def transform(x):\n",
    "    \"\"\" transform the PROSAIL parameters\"\"\"\n",
    "    x_out = np.asarray(x) * 1.\n",
    "    # Cab, posn 1\n",
    "    x_out[1] = np.exp(-x[1] / 100)\n",
    "    # Cab, posn 2\n",
    "    x_out[2] = np.exp(-x[2] / 100)\n",
    "    # Cw, posn 4\n",
    "    x_out[4] = np.exp(-50. * x[4])\n",
    "    # Cm, posn 5\n",
    "    x_out[5] = np.exp(-50. * x[5])\n",
    "    # LAI, posn 6\n",
    "    x_out[6] = np.exp(-x[6] / 2.)\n",
    "    # ALA, posn 7\n",
    "    x_out[7] = x[7] / 90.\n",
    "    return x_out\n"
   ]
  },
  {
   "cell_type": "markdown",
   "metadata": {},
   "source": [
    "An input vector with average PROSAIL paremeters\n",
    "(based on Table 1 in  https://www.mdpi.com/2072-4292/8/2/119)\n",
    "is defined as:"
   ]
  },
  {
   "cell_type": "code",
   "execution_count": 4,
   "metadata": {
    "pycharm": {
     "name": "#%%\n"
    }
   },
   "outputs": [],
   "source": [
    "p = {'n': (2.5 - 0.8) / 2,\n",
    "         'cab': (77 - 0.2) / 2,\n",
    "         'car': (15 / 2.),\n",
    "         'cbrown': 1 / 2.,\n",
    "         'cw': (0.0753 - 0.0043) / 2,\n",
    "         'cm': (0.0331 - 0.0017) / 2,\n",
    "         'lai': 8 / 2,\n",
    "         'ala': 90 / 2,\n",
    "         'hspot': 0,\n",
    "         'bsoil': (1 - (-0.5)) / 2,\n",
    "         'psoil': (1 - (-0.5)) / 2}\n"
   ]
  },
  {
   "cell_type": "markdown",
   "metadata": {
    "pycharm": {
     "name": "#%% md\n"
    }
   },
   "source": [
    "I select a random emulator file that accoring to its name,\n",
    "it correspond to a geometric configuration SZA=20 deg,\n",
    " VZA=0 deg, RAA=60 deg."
   ]
  },
  {
   "cell_type": "code",
   "execution_count": 5,
   "metadata": {
    "pycharm": {
     "name": "#%%\n"
    }
   },
   "outputs": [],
   "source": [
    "fname = 'data/prosail_020_000_0060.npz'\n",
    "sza, vza, raa = 20., 0.0, 60"
   ]
  },
  {
   "cell_type": "markdown",
   "metadata": {
    "pycharm": {
     "name": "#%% md\n"
    }
   },
   "source": [
    "We run  PROSAIL --  using the input parameters  defined above and the\n",
    " geometry of the emulator -- to obtain the simulated\n",
    " surface reflectance spectrum."
   ]
  },
  {
   "cell_type": "code",
   "execution_count": 6,
   "metadata": {
    "pycharm": {
     "name": "#%%\n"
    }
   },
   "outputs": [
    {
     "ename": "TypeError",
     "evalue": "run_prosail() missing 1 required positional argument: 'psi'",
     "output_type": "error",
     "traceback": [
      "\u001b[0;31m---------------------------------------------------------------------------\u001b[0m",
      "\u001b[0;31mTypeError\u001b[0m                                 Traceback (most recent call last)",
      "\u001b[0;32m<ipython-input-6-58af50e81ef8>\u001b[0m in \u001b[0;36m<module>\u001b[0;34m\u001b[0m\n\u001b[1;32m      4\u001b[0m                                 \u001b[0msza\u001b[0m\u001b[0;34m,\u001b[0m \u001b[0mvza\u001b[0m\u001b[0;34m,\u001b[0m \u001b[0mraa\u001b[0m\u001b[0;34m,\u001b[0m\u001b[0;34m\u001b[0m\u001b[0;34m\u001b[0m\u001b[0m\n\u001b[1;32m      5\u001b[0m                                 \u001b[0mrsoil\u001b[0m\u001b[0;34m=\u001b[0m\u001b[0mp\u001b[0m\u001b[0;34m[\u001b[0m\u001b[0;34m'bsoil'\u001b[0m\u001b[0;34m]\u001b[0m\u001b[0;34m,\u001b[0m\u001b[0;34m\u001b[0m\u001b[0;34m\u001b[0m\u001b[0m\n\u001b[0;32m----> 6\u001b[0;31m                                 \u001b[0mpsoil\u001b[0m\u001b[0;34m=\u001b[0m\u001b[0mp\u001b[0m\u001b[0;34m[\u001b[0m\u001b[0;34m'psoil'\u001b[0m\u001b[0;34m]\u001b[0m\u001b[0;34m,\u001b[0m\u001b[0;34m\u001b[0m\u001b[0;34m\u001b[0m\u001b[0m\n\u001b[0m\u001b[1;32m      7\u001b[0m                                     )\n\u001b[1;32m      8\u001b[0m \u001b[0;34m\u001b[0m\u001b[0m\n",
      "\u001b[0;31mTypeError\u001b[0m: run_prosail() missing 1 required positional argument: 'psi'"
     ]
    }
   ],
   "source": [
    "surf_refl = prosail.run_prosail(p['n'], p['cab'], p['car'],\n",
    "                                p['cbrown'], p['cw'], p['cm'],\n",
    "                                p['lai'], p['ala'],\n",
    "                                sza, vza, raa,\n",
    "                                rsoil=p['bsoil'],\n",
    "                                psoil=p['psoil'],\n",
    "                                    )\n",
    "\n",
    "wavelength = np.arange(400, 2501, 1)\n",
    "\n",
    "plt.plot(wavelength, surf_refl,label='PROSAIL')\n",
    "plt.xlabel('wavelength [nm]')\n",
    "plt.ylabel('PROSAIL simulated surface reflectance')"
   ]
  },
  {
   "cell_type": "markdown",
   "metadata": {
    "pycharm": {
     "name": "#%% md\n"
    }
   },
   "source": [
    "Now, we would like to compare the PROSAIL output with the prediction\n",
    "from the gp_emulator for the same input parameters."
   ]
  },
  {
   "cell_type": "code",
   "execution_count": null,
   "metadata": {
    "pycharm": {
     "name": "#%%\n"
    }
   },
   "outputs": [],
   "source": [
    "gp = gp_emulator.MultivariateEmulator(dump=fname)\n",
    "\n",
    "x_gp = [p['n'], p['cab'], p['car'],\n",
    "        p['cbrown'],p['cw'], p['cm'],\n",
    "        p['lai'], p['ala'],\n",
    "        p['bsoil'], p['psoil']]\n",
    "\n",
    "x_transformed = transform(x_gp)\n",
    "y_pred, y_sigma, y_grad = gp.predict(x_transformed)\n",
    "\n",
    "plt.plot(wavelength, surf_refl,label='PROSAIL')\n",
    "plt.plot(wavelength, y_pred,label='PROSAIL_emulator')\n",
    "plt.xlabel('wavelength [nm]')\n",
    "plt.ylabel('PROSAIL simulated surface reflectance')\n",
    "plt.legend()"
   ]
  }
 ],
 "metadata": {
  "kernelspec": {
   "display_name": "Python 3",
   "language": "python",
   "name": "python3"
  },
  "language_info": {
   "codemirror_mode": {
    "name": "ipython",
    "version": 3
   },
   "file_extension": ".py",
   "mimetype": "text/x-python",
   "name": "python",
   "nbconvert_exporter": "python",
   "pygments_lexer": "ipython3",
   "version": "3.7.8"
  }
 },
 "nbformat": 4,
 "nbformat_minor": 1
}
