{
 "cells": [
  {
   "cell_type": "code",
   "execution_count": 1,
   "metadata": {
    "collapsed": true
   },
   "outputs": [],
   "source": [
    "#!pip install gp_emulator\n",
    "\n"
   ]
  },
  {
   "cell_type": "code",
   "execution_count": 2,
   "outputs": [],
   "source": [
    "import numpy as np\n",
    "import gp_emulator\n",
    "import matplotlib.pyplot as plt\n",
    "import prosail"
   ],
   "metadata": {
    "collapsed": false,
    "pycharm": {
     "name": "#%%\n"
    }
   }
  },
  {
   "cell_type": "markdown",
   "source": [
    "I could nout install  prosail in python3.6\n",
    "and just took the libraries to call them."
   ],
   "metadata": {
    "collapsed": false
   }
  },
  {
   "cell_type": "markdown",
   "source": [
    "Below the  scaling-transform functions according\n",
    "to https://github.com/jgomezdans/gp_emulator/blob/master/notebooks/Emulation_playground.ipynb"
   ],
   "metadata": {
    "collapsed": false,
    "pycharm": {
     "name": "#%% md\n"
    }
   }
  },
  {
   "cell_type": "code",
   "execution_count": 3,
   "outputs": [],
   "source": [
    "def inverse_transform(x):\n",
    "    \"\"\"Inverse transform the PROSAIL parameters\"\"\"\n",
    "    x_out = x * 1.\n",
    "    # Cab, posn 1\n",
    "    x_out[1] = -100. * np.log(x[1])\n",
    "    # Cab, posn 2\n",
    "    x_out[2] = -100. * np.log(x[2])\n",
    "    # Cw, posn 4\n",
    "    x_out[4] = (-1. / 50.) * np.log(x[4])\n",
    "    # Cm, posn 5\n",
    "    x_out[5] = (-1. / 100.) * np.log(x[5])\n",
    "    # LAI, posn 6\n",
    "    x_out[6] = -2. * np.log(x[6])\n",
    "    # ALA, posn 7\n",
    "    x_out[7] = 90. * x[7]\n",
    "    return x_out\n",
    "\n",
    "\n",
    "def transform(x):\n",
    "    \"\"\" transform the PROSAIL parameters\"\"\"\n",
    "    x_out = np.asarray(x) * 1.\n",
    "    # Cab, posn 1\n",
    "    x_out[1] = np.exp(-x[1] / 100)\n",
    "    # Cab, posn 2\n",
    "    x_out[2] = np.exp(-x[2] / 100)\n",
    "    # Cw, posn 4\n",
    "    x_out[4] = np.exp(-50. * x[4])\n",
    "    # Cm, posn 5\n",
    "    x_out[5] = np.exp(-50. * x[5])\n",
    "    # LAI, posn 6\n",
    "    x_out[6] = np.exp(-x[6] / 2.)\n",
    "    # ALA, posn 7\n",
    "    x_out[7] = x[7] / 90.\n",
    "    return x_out\n"
   ],
   "metadata": {
    "collapsed": false,
    "pycharm": {
     "name": "#%%\n"
    }
   }
  },
  {
   "cell_type": "markdown",
   "source": [
    "An input vector with average PROSAIL paremeters\n",
    "(based on Table 1 in  https://www.mdpi.com/2072-4292/8/2/119)\n",
    "is defined as:"
   ],
   "metadata": {
    "collapsed": false
   }
  },
  {
   "cell_type": "code",
   "execution_count": 7,
   "outputs": [],
   "source": [
    "p = {'n': (2.5 - 0.8) / 2,\n",
    "         'cab': (77 - 0.2) / 2,\n",
    "         'car': (15 / 2.),\n",
    "         'csen': 1 / 2.,\n",
    "         'cw': (0.0753 - 0.0043) / 2,\n",
    "         'cm': (0.0331 - 0.0017) / 2,\n",
    "         'lai': 8 / 2,\n",
    "         'ala': 90 / 2,\n",
    "         'hspot': 0,\n",
    "         'bsoil': (1 - (-0.5)) / 2,\n",
    "         'psoil': (1 - (-0.5)) / 2}\n"
   ],
   "metadata": {
    "collapsed": false,
    "pycharm": {
     "name": "#%%\n"
    }
   }
  },
  {
   "cell_type": "markdown",
   "source": [
    "I select a random emulator file from"
   ],
   "metadata": {
    "collapsed": false,
    "pycharm": {
     "name": "#%% md\n"
    }
   }
  },
  {
   "cell_type": "code",
   "execution_count": 5,
   "outputs": [],
   "source": [
    "fname = '/data/WET_03/TEMP/leon/gps/emulators/spectral/prosail/prosail_020_000_0060.npz'\n",
    "sza, vza, raa = 20., 0.0, 60\n"
   ],
   "metadata": {
    "collapsed": false,
    "pycharm": {
     "name": "#%%\n"
    }
   }
  },
  {
   "cell_type": "markdown",
   "source": [
    "We pass the x vector to PROSAIL to obtain the simulated\n",
    " surface reflectance spectrum."
   ],
   "metadata": {
    "collapsed": false,
    "pycharm": {
     "name": "#%% md\n"
    }
   }
  },
  {
   "cell_type": "code",
   "execution_count": 9,
   "outputs": [
    {
     "data": {
      "text/plain": "Text(0, 0.5, 'PROSAIL simulated surface reflectance')"
     },
     "execution_count": 9,
     "metadata": {},
     "output_type": "execute_result"
    },
    {
     "data": {
      "text/plain": "<Figure size 432x288 with 1 Axes>",
      "image/png": "[encoded data removed]"
     },
     "metadata": {
      "needs_background": "light"
     },
     "output_type": "display_data"
    }
   ],
   "source": [
    "surf_refl = prosail.run_prosail(p['n'], p['cab'], p['car'],\n",
    "                                    p['csen'], p['cw'], p['cm'],\n",
    "                                    p['lai'], p['ala'],\n",
    "                                    p['hspot'],\n",
    "                                    sza, vza, raa,\n",
    "                                    rsoil=p['bsoil'],\n",
    "                                    psoil=p['psoil'],\n",
    "                                    )\n",
    "\n",
    "wavelength = np.arange(400, 2501, 1)\n",
    "\n",
    "plt.plot(wavelength, surf_refl,label='PROSAIL')\n",
    "plt.xlabel('wavelength [nm]')\n",
    "plt.ylabel('PROSAIL simulated surface reflectance')"
   ],
   "metadata": {
    "collapsed": false,
    "pycharm": {
     "name": "#%%\n"
    }
   }
  },
  {
   "cell_type": "markdown",
   "source": [
    "Now we would like to compare the PROSAIL output with the prediction\n",
    "from the gp_emulator"
   ],
   "metadata": {
    "collapsed": false,
    "pycharm": {
     "name": "#%% md\n"
    }
   }
  },
  {
   "cell_type": "code",
   "execution_count": 11,
   "outputs": [
    {
     "data": {
      "text/plain": "<matplotlib.legend.Legend at 0x7f9bc2faf850>"
     },
     "execution_count": 11,
     "metadata": {},
     "output_type": "execute_result"
    },
    {
     "data": {
      "text/plain": "<Figure size 432x288 with 1 Axes>",
      "image/png": "[encoded data removed]"
     },
     "metadata": {
      "needs_background": "light"
     },
     "output_type": "display_data"
    }
   ],
   "source": [
    "gp = gp_emulator.MultivariateEmulator(dump=fname)\n",
    "\n",
    "x_gp = [p['n'], p['cab'], p['car'], p['cw'],\n",
    "        p['cm'], p['lai'], p['ala'],\n",
    "        p['hspot'],\n",
    "        p['bsoil'], p['psoil']]\n",
    "\n",
    "x_transformed = transform(x_gp)\n",
    "y_pred, y_sigma, y_grad = gp.predict(x_transformed)\n",
    "\n",
    "plt.plot(wavelength, surf_refl,label='PROSAIL')\n",
    "plt.plot(wavelength, y_pred,label='PROSAIL_emulator')\n",
    "plt.xlabel('wavelength [nm]')\n",
    "plt.ylabel('PROSAIL simulated surface reflectance')\n",
    "plt.legend()"
   ],
   "metadata": {
    "collapsed": false,
    "pycharm": {
     "name": "#%%\n"
    }
   }
  }
 ],
 "metadata": {
  "kernelspec": {
   "display_name": "Python 3",
   "language": "python",
   "name": "python3"
  },
  "language_info": {
   "codemirror_mode": {
    "name": "ipython",
    "version": 2
   },
   "file_extension": ".py",
   "mimetype": "text/x-python",
   "name": "python",
   "nbconvert_exporter": "python",
   "pygments_lexer": "ipython2",
   "version": "2.7.6"
  }
 },
 "nbformat": 4,
 "nbformat_minor": 0
}